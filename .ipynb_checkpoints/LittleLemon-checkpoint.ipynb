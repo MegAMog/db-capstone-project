{
 "cells": [
  {
   "cell_type": "code",
   "execution_count": 15,
   "id": "ff69c3aa",
   "metadata": {},
   "outputs": [
    {
     "name": "stdout",
     "output_type": "stream",
     "text": [
      "Requirement already satisfied: mysql-connector-python in c:\\users\\nasty\\anaconda3\\lib\\site-packages (8.3.0)\n"
     ]
    }
   ],
   "source": [
    "!pip install mysql-connector-python"
   ]
  },
  {
   "cell_type": "code",
   "execution_count": 16,
   "id": "16ea7cfa",
   "metadata": {},
   "outputs": [],
   "source": [
    "import mysql.connector as connector"
   ]
  },
  {
   "cell_type": "code",
   "execution_count": 17,
   "id": "83fa23c5",
   "metadata": {},
   "outputs": [],
   "source": [
    "dbconfig = {\"user\":\"little_lemon_admin\", \"password\":\"littlelemon_admin\", \"database\":\"littlelemondb\"}"
   ]
  },
  {
   "cell_type": "code",
   "execution_count": 18,
   "id": "32400220",
   "metadata": {},
   "outputs": [
    {
     "name": "stdout",
     "output_type": "stream",
     "text": [
      "The connection is created with a name.\n"
     ]
    }
   ],
   "source": [
    "try:\n",
    "    connection = connector.connect(**dbconfig)\n",
    "    print(\"The connection is created with a name.\")\n",
    "except connector.Error as error:\n",
    "    if error.errno == connector.errorcode.ER_ACCESS_DENIED_ERROR:\n",
    "        print(\"Connection user or password are incorrect.\")\n",
    "    else:\n",
    "        print(\"There was an error during the connection to database.\")\n",
    "        print(\"Error code {}.\".format(error.errno))\n",
    "        print(\"Error message {}.\".format(error.msg))"
   ]
  },
  {
   "cell_type": "code",
   "execution_count": 19,
   "id": "a1f8cec6",
   "metadata": {},
   "outputs": [],
   "source": [
    "cursor = connection.cursor()"
   ]
  },
  {
   "cell_type": "code",
   "execution_count": 20,
   "id": "9a620248",
   "metadata": {},
   "outputs": [
    {
     "name": "stdout",
     "output_type": "stream",
     "text": [
      "('bookings',)\n",
      "('customer_orders_view',)\n",
      "('customers',)\n",
      "('menu',)\n",
      "('menuitems',)\n",
      "('menuitems_view',)\n",
      "('orderhistory',)\n",
      "('orders',)\n",
      "('orders_view',)\n",
      "('staff',)\n",
      "('tables',)\n"
     ]
    }
   ],
   "source": [
    "cursor.execute(\"\"\"USE littlelemondb\"\"\")\n",
    "cursor.execute(\"SHOW tables\" )\n",
    "for table in cursor:\n",
    "    print(table)"
   ]
  },
  {
   "cell_type": "code",
   "execution_count": 21,
   "id": "6db820a7",
   "metadata": {},
   "outputs": [],
   "source": [
    "customer_info=\"\"\"\n",
    "SELECT  CONCAT(FirstName,' ', LastName) AS `CustomerFullName`, ContactNumber, Email\n",
    "FROM customers\n",
    "INNER JOIN bookings ON bookings.CustomerID=customers.CustomerID\n",
    "INNER JOIN orderhistory ON orderhistory.BookingID=bookings.BookingID\n",
    "WHERE OrderID = ANY (SELECT OrderID FROM orders WHERE BillAmount>60);\n",
    "\"\"\""
   ]
  },
  {
   "cell_type": "code",
   "execution_count": 22,
   "id": "0b635117",
   "metadata": {},
   "outputs": [],
   "source": [
    "cursor.execute(customer_info)\n",
    "result = cursor.fetchall()\n",
    "for row in result:\n",
    "    print(row)"
   ]
  },
  {
   "cell_type": "code",
   "execution_count": 23,
   "id": "0f94b6ad",
   "metadata": {},
   "outputs": [
    {
     "data": {
      "text/plain": [
       "True"
      ]
     },
     "execution_count": 23,
     "metadata": {},
     "output_type": "execute_result"
    }
   ],
   "source": [
    "cursor.close()"
   ]
  },
  {
   "cell_type": "code",
   "execution_count": 24,
   "id": "d933a84c",
   "metadata": {},
   "outputs": [
    {
     "name": "stdout",
     "output_type": "stream",
     "text": [
      "MySQL connection is closed.\n"
     ]
    }
   ],
   "source": [
    "#Close connection\n",
    "if connection.is_connected():\n",
    "    connection.close()\n",
    "    print(\"MySQL connection is closed.\")\n",
    "else:\n",
    "    print(\"MySQL connection is already closed.\")"
   ]
  },
  {
   "cell_type": "code",
   "execution_count": null,
   "id": "6cfa3307",
   "metadata": {},
   "outputs": [],
   "source": []
  }
 ],
 "metadata": {
  "kernelspec": {
   "display_name": "Python 3 (ipykernel)",
   "language": "python",
   "name": "python3"
  },
  "language_info": {
   "codemirror_mode": {
    "name": "ipython",
    "version": 3
   },
   "file_extension": ".py",
   "mimetype": "text/x-python",
   "name": "python",
   "nbconvert_exporter": "python",
   "pygments_lexer": "ipython3",
   "version": "3.11.4"
  }
 },
 "nbformat": 4,
 "nbformat_minor": 5
}
